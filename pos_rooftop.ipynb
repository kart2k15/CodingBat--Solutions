{
 "cells": [
  {
   "cell_type": "code",
   "execution_count": 2,
   "id": "empty-milton",
   "metadata": {},
   "outputs": [],
   "source": [
    "import csv\n",
    "import pandas as pd\n",
    "import numpy as np\n",
    "import awswrangler as wr\n",
    "from datetime import datetime, timedelta\n",
    "import json\n",
    "import gzip\n",
    "from io import BytesIO, TextIOWrapper\n",
    "import boto3\n",
    "import dask.dataframe as dd\n",
    "import plotly.express as px\n",
    "import seaborn as sns"
   ]
  },
  {
   "cell_type": "code",
   "execution_count": 19,
   "id": "regional-cable",
   "metadata": {},
   "outputs": [],
   "source": [
    "pos_rooftop_day=wr.athena.read_sql_query(\"select * from pos_rooftop_day\", database=\"dunkin_db\", keep_files=False)"
   ]
  },
  {
   "cell_type": "code",
   "execution_count": null,
   "id": "similar-picnic",
   "metadata": {},
   "outputs": [],
   "source": []
  },
  {
   "cell_type": "code",
   "execution_count": 21,
   "id": "electrical-spain",
   "metadata": {},
   "outputs": [],
   "source": [
    "pos_rooftop_day['gross_sales_amt'] = pos_rooftop_day[['gross_sales_amt']].fillna(0.00)\n",
    "pos_rooftop_day['net_sales_amt'] = pos_rooftop_day[['net_sales_amt']].fillna(0.00)\n",
    "pos_rooftop_day['check_cnt'] = pos_rooftop_day[['check_cnt']].fillna(0.00)"
   ]
  },
  {
   "cell_type": "code",
   "execution_count": 10,
   "id": "incoming-multimedia",
   "metadata": {},
   "outputs": [],
   "source": [
    "pos_roof_raw_missing=pos_rooftop_day[pos_rooftop_day.isna()].copy()"
   ]
  },
  {
   "cell_type": "code",
   "execution_count": 22,
   "id": "square-render",
   "metadata": {},
   "outputs": [
    {
     "data": {
      "text/html": [
       "<div>\n",
       "<style scoped>\n",
       "    .dataframe tbody tr th:only-of-type {\n",
       "        vertical-align: middle;\n",
       "    }\n",
       "\n",
       "    .dataframe tbody tr th {\n",
       "        vertical-align: top;\n",
       "    }\n",
       "\n",
       "    .dataframe thead th {\n",
       "        text-align: right;\n",
       "    }\n",
       "</style>\n",
       "<table border=\"1\" class=\"dataframe\">\n",
       "  <thead>\n",
       "    <tr style=\"text-align: right;\">\n",
       "      <th></th>\n",
       "      <th>calendar_date</th>\n",
       "      <th>pfcntr</th>\n",
       "      <th>dma_name</th>\n",
       "      <th>dma_code</th>\n",
       "      <th>week_end_sat</th>\n",
       "      <th>ordr_type_name</th>\n",
       "      <th>gross_sales_amt</th>\n",
       "      <th>net_sales_amt</th>\n",
       "      <th>check_cnt</th>\n",
       "    </tr>\n",
       "  </thead>\n",
       "  <tbody>\n",
       "    <tr>\n",
       "      <th>0</th>\n",
       "      <td>2019-06-02</td>\n",
       "      <td>310434</td>\n",
       "      <td>SPRINGFIELD MA</td>\n",
       "      <td>543</td>\n",
       "      <td>2019-06-08</td>\n",
       "      <td>drive_thru</td>\n",
       "      <td>2380.089844</td>\n",
       "      <td>2325.649902</td>\n",
       "      <td>476.0</td>\n",
       "    </tr>\n",
       "    <tr>\n",
       "      <th>1</th>\n",
       "      <td>2019-06-06</td>\n",
       "      <td>310434</td>\n",
       "      <td>SPRINGFIELD MA</td>\n",
       "      <td>543</td>\n",
       "      <td>2019-06-08</td>\n",
       "      <td>otg_walk_in</td>\n",
       "      <td>19.240000</td>\n",
       "      <td>19.240000</td>\n",
       "      <td>6.0</td>\n",
       "    </tr>\n",
       "    <tr>\n",
       "      <th>2</th>\n",
       "      <td>2019-06-06</td>\n",
       "      <td>310434</td>\n",
       "      <td>SPRINGFIELD MA</td>\n",
       "      <td>543</td>\n",
       "      <td>2019-06-08</td>\n",
       "      <td>otg_dt</td>\n",
       "      <td>11.560000</td>\n",
       "      <td>11.560000</td>\n",
       "      <td>4.0</td>\n",
       "    </tr>\n",
       "    <tr>\n",
       "      <th>3</th>\n",
       "      <td>2019-06-06</td>\n",
       "      <td>310434</td>\n",
       "      <td>SPRINGFIELD MA</td>\n",
       "      <td>543</td>\n",
       "      <td>2019-06-08</td>\n",
       "      <td>eat_in</td>\n",
       "      <td>1121.320068</td>\n",
       "      <td>1079.680054</td>\n",
       "      <td>239.0</td>\n",
       "    </tr>\n",
       "    <tr>\n",
       "      <th>4</th>\n",
       "      <td>2019-06-06</td>\n",
       "      <td>310434</td>\n",
       "      <td>SPRINGFIELD MA</td>\n",
       "      <td>543</td>\n",
       "      <td>2019-06-08</td>\n",
       "      <td>drive_thru</td>\n",
       "      <td>3002.469971</td>\n",
       "      <td>2932.780029</td>\n",
       "      <td>698.0</td>\n",
       "    </tr>\n",
       "  </tbody>\n",
       "</table>\n",
       "</div>"
      ],
      "text/plain": [
       "  calendar_date  pfcntr        dma_name  dma_code week_end_sat ordr_type_name  \\\n",
       "0    2019-06-02  310434  SPRINGFIELD MA       543   2019-06-08     drive_thru   \n",
       "1    2019-06-06  310434  SPRINGFIELD MA       543   2019-06-08    otg_walk_in   \n",
       "2    2019-06-06  310434  SPRINGFIELD MA       543   2019-06-08         otg_dt   \n",
       "3    2019-06-06  310434  SPRINGFIELD MA       543   2019-06-08         eat_in   \n",
       "4    2019-06-06  310434  SPRINGFIELD MA       543   2019-06-08     drive_thru   \n",
       "\n",
       "   gross_sales_amt  net_sales_amt  check_cnt  \n",
       "0      2380.089844    2325.649902      476.0  \n",
       "1        19.240000      19.240000        6.0  \n",
       "2        11.560000      11.560000        4.0  \n",
       "3      1121.320068    1079.680054      239.0  \n",
       "4      3002.469971    2932.780029      698.0  "
      ]
     },
     "execution_count": 22,
     "metadata": {},
     "output_type": "execute_result"
    }
   ],
   "source": [
    "pos_rooftop_day.head()"
   ]
  },
  {
   "cell_type": "code",
   "execution_count": 23,
   "id": "otherwise-contractor",
   "metadata": {},
   "outputs": [
    {
     "data": {
      "text/plain": [
       "calendar_date    0\n",
       "dtype: int64"
      ]
     },
     "execution_count": 23,
     "metadata": {},
     "output_type": "execute_result"
    }
   ],
   "source": [
    "pos_rooftop_day[['calendar_date']].isna().sum()"
   ]
  },
  {
   "cell_type": "code",
   "execution_count": 24,
   "id": "defensive-reference",
   "metadata": {},
   "outputs": [
    {
     "data": {
      "text/plain": [
       "pfcntr    0\n",
       "dtype: int64"
      ]
     },
     "execution_count": 24,
     "metadata": {},
     "output_type": "execute_result"
    }
   ],
   "source": [
    "pos_rooftop_day[['pfcntr']].isna().sum()"
   ]
  },
  {
   "cell_type": "code",
   "execution_count": 25,
   "id": "familiar-breathing",
   "metadata": {},
   "outputs": [
    {
     "data": {
      "text/plain": [
       "2978727"
      ]
     },
     "execution_count": 25,
     "metadata": {},
     "output_type": "execute_result"
    }
   ],
   "source": [
    "pos_rooftop_day['ordr_type_name'].isna().sum()"
   ]
  },
  {
   "cell_type": "code",
   "execution_count": 26,
   "id": "backed-journalist",
   "metadata": {},
   "outputs": [
    {
     "data": {
      "text/html": [
       "<div>\n",
       "<style scoped>\n",
       "    .dataframe tbody tr th:only-of-type {\n",
       "        vertical-align: middle;\n",
       "    }\n",
       "\n",
       "    .dataframe tbody tr th {\n",
       "        vertical-align: top;\n",
       "    }\n",
       "\n",
       "    .dataframe thead th {\n",
       "        text-align: right;\n",
       "    }\n",
       "</style>\n",
       "<table border=\"1\" class=\"dataframe\">\n",
       "  <thead>\n",
       "    <tr style=\"text-align: right;\">\n",
       "      <th></th>\n",
       "      <th>calendar_date</th>\n",
       "      <th>pfcntr</th>\n",
       "      <th>dma_name</th>\n",
       "      <th>dma_code</th>\n",
       "      <th>week_end_sat</th>\n",
       "      <th>ordr_type_name</th>\n",
       "      <th>gross_sales_amt</th>\n",
       "      <th>net_sales_amt</th>\n",
       "      <th>check_cnt</th>\n",
       "    </tr>\n",
       "  </thead>\n",
       "  <tbody>\n",
       "    <tr>\n",
       "      <th>9</th>\n",
       "      <td>2019-10-01</td>\n",
       "      <td>310434</td>\n",
       "      <td>SPRINGFIELD MA</td>\n",
       "      <td>543</td>\n",
       "      <td>2019-10-05</td>\n",
       "      <td>&lt;NA&gt;</td>\n",
       "      <td>0.0</td>\n",
       "      <td>0.0</td>\n",
       "      <td>0.0</td>\n",
       "    </tr>\n",
       "    <tr>\n",
       "      <th>10</th>\n",
       "      <td>2019-11-01</td>\n",
       "      <td>310434</td>\n",
       "      <td>SPRINGFIELD MA</td>\n",
       "      <td>543</td>\n",
       "      <td>2019-11-02</td>\n",
       "      <td>&lt;NA&gt;</td>\n",
       "      <td>0.0</td>\n",
       "      <td>0.0</td>\n",
       "      <td>0.0</td>\n",
       "    </tr>\n",
       "    <tr>\n",
       "      <th>11</th>\n",
       "      <td>2019-11-05</td>\n",
       "      <td>310434</td>\n",
       "      <td>SPRINGFIELD MA</td>\n",
       "      <td>543</td>\n",
       "      <td>2019-11-09</td>\n",
       "      <td>&lt;NA&gt;</td>\n",
       "      <td>0.0</td>\n",
       "      <td>0.0</td>\n",
       "      <td>0.0</td>\n",
       "    </tr>\n",
       "    <tr>\n",
       "      <th>133</th>\n",
       "      <td>2019-12-07</td>\n",
       "      <td>310435</td>\n",
       "      <td>PROVIDENCE RI</td>\n",
       "      <td>521</td>\n",
       "      <td>2019-12-07</td>\n",
       "      <td>&lt;NA&gt;</td>\n",
       "      <td>0.0</td>\n",
       "      <td>0.0</td>\n",
       "      <td>0.0</td>\n",
       "    </tr>\n",
       "    <tr>\n",
       "      <th>134</th>\n",
       "      <td>2019-12-11</td>\n",
       "      <td>310435</td>\n",
       "      <td>PROVIDENCE RI</td>\n",
       "      <td>521</td>\n",
       "      <td>2019-12-14</td>\n",
       "      <td>&lt;NA&gt;</td>\n",
       "      <td>0.0</td>\n",
       "      <td>0.0</td>\n",
       "      <td>0.0</td>\n",
       "    </tr>\n",
       "    <tr>\n",
       "      <th>...</th>\n",
       "      <td>...</td>\n",
       "      <td>...</td>\n",
       "      <td>...</td>\n",
       "      <td>...</td>\n",
       "      <td>...</td>\n",
       "      <td>...</td>\n",
       "      <td>...</td>\n",
       "      <td>...</td>\n",
       "      <td>...</td>\n",
       "    </tr>\n",
       "    <tr>\n",
       "      <th>39923702</th>\n",
       "      <td>2019-12-24</td>\n",
       "      <td>353236</td>\n",
       "      <td>METRO NY</td>\n",
       "      <td>501</td>\n",
       "      <td>2019-12-28</td>\n",
       "      <td>&lt;NA&gt;</td>\n",
       "      <td>0.0</td>\n",
       "      <td>0.0</td>\n",
       "      <td>0.0</td>\n",
       "    </tr>\n",
       "    <tr>\n",
       "      <th>39923703</th>\n",
       "      <td>2019-12-24</td>\n",
       "      <td>353236</td>\n",
       "      <td>METRO NY</td>\n",
       "      <td>501</td>\n",
       "      <td>2019-12-28</td>\n",
       "      <td>&lt;NA&gt;</td>\n",
       "      <td>0.0</td>\n",
       "      <td>0.0</td>\n",
       "      <td>0.0</td>\n",
       "    </tr>\n",
       "    <tr>\n",
       "      <th>39923704</th>\n",
       "      <td>2019-12-28</td>\n",
       "      <td>353236</td>\n",
       "      <td>METRO NY</td>\n",
       "      <td>501</td>\n",
       "      <td>2019-12-28</td>\n",
       "      <td>&lt;NA&gt;</td>\n",
       "      <td>0.0</td>\n",
       "      <td>0.0</td>\n",
       "      <td>0.0</td>\n",
       "    </tr>\n",
       "    <tr>\n",
       "      <th>39923705</th>\n",
       "      <td>2019-12-28</td>\n",
       "      <td>353236</td>\n",
       "      <td>METRO NY</td>\n",
       "      <td>501</td>\n",
       "      <td>2019-12-28</td>\n",
       "      <td>&lt;NA&gt;</td>\n",
       "      <td>0.0</td>\n",
       "      <td>0.0</td>\n",
       "      <td>0.0</td>\n",
       "    </tr>\n",
       "    <tr>\n",
       "      <th>39923915</th>\n",
       "      <td>2019-12-05</td>\n",
       "      <td>353237</td>\n",
       "      <td>SAN ANTONTIO TX</td>\n",
       "      <td>641</td>\n",
       "      <td>2019-12-07</td>\n",
       "      <td>&lt;NA&gt;</td>\n",
       "      <td>0.0</td>\n",
       "      <td>0.0</td>\n",
       "      <td>0.0</td>\n",
       "    </tr>\n",
       "  </tbody>\n",
       "</table>\n",
       "<p>2978727 rows × 9 columns</p>\n",
       "</div>"
      ],
      "text/plain": [
       "         calendar_date  pfcntr         dma_name  dma_code week_end_sat  \\\n",
       "9           2019-10-01  310434   SPRINGFIELD MA       543   2019-10-05   \n",
       "10          2019-11-01  310434   SPRINGFIELD MA       543   2019-11-02   \n",
       "11          2019-11-05  310434   SPRINGFIELD MA       543   2019-11-09   \n",
       "133         2019-12-07  310435    PROVIDENCE RI       521   2019-12-07   \n",
       "134         2019-12-11  310435    PROVIDENCE RI       521   2019-12-14   \n",
       "...                ...     ...              ...       ...          ...   \n",
       "39923702    2019-12-24  353236         METRO NY       501   2019-12-28   \n",
       "39923703    2019-12-24  353236         METRO NY       501   2019-12-28   \n",
       "39923704    2019-12-28  353236         METRO NY       501   2019-12-28   \n",
       "39923705    2019-12-28  353236         METRO NY       501   2019-12-28   \n",
       "39923915    2019-12-05  353237  SAN ANTONTIO TX       641   2019-12-07   \n",
       "\n",
       "         ordr_type_name  gross_sales_amt  net_sales_amt  check_cnt  \n",
       "9                  <NA>              0.0            0.0        0.0  \n",
       "10                 <NA>              0.0            0.0        0.0  \n",
       "11                 <NA>              0.0            0.0        0.0  \n",
       "133                <NA>              0.0            0.0        0.0  \n",
       "134                <NA>              0.0            0.0        0.0  \n",
       "...                 ...              ...            ...        ...  \n",
       "39923702           <NA>              0.0            0.0        0.0  \n",
       "39923703           <NA>              0.0            0.0        0.0  \n",
       "39923704           <NA>              0.0            0.0        0.0  \n",
       "39923705           <NA>              0.0            0.0        0.0  \n",
       "39923915           <NA>              0.0            0.0        0.0  \n",
       "\n",
       "[2978727 rows x 9 columns]"
      ]
     },
     "execution_count": 26,
     "metadata": {},
     "output_type": "execute_result"
    }
   ],
   "source": [
    "pos_rooftop_day[pos_rooftop_day['ordr_type_name'].isna()]"
   ]
  },
  {
   "cell_type": "code",
   "execution_count": 27,
   "id": "invisible-public",
   "metadata": {},
   "outputs": [
    {
     "ename": "NameError",
     "evalue": "name 'pos_roof_raw_missing' is not defined",
     "output_type": "error",
     "traceback": [
      "\u001b[1;31m---------------------------------------------------------------------------\u001b[0m",
      "\u001b[1;31mNameError\u001b[0m                                 Traceback (most recent call last)",
      "\u001b[1;32m<ipython-input-27-8e6e28c5675c>\u001b[0m in \u001b[0;36m<module>\u001b[1;34m\u001b[0m\n\u001b[1;32m----> 1\u001b[1;33m \u001b[0mpos_roof_raw_missing\u001b[0m\u001b[1;33m[\u001b[0m\u001b[1;33m[\u001b[0m\u001b[1;34m'calendar_date'\u001b[0m\u001b[1;33m]\u001b[0m\u001b[1;33m]\u001b[0m\u001b[1;33m.\u001b[0m\u001b[0misna\u001b[0m\u001b[1;33m(\u001b[0m\u001b[1;33m)\u001b[0m\u001b[1;33m.\u001b[0m\u001b[0msum\u001b[0m\u001b[1;33m(\u001b[0m\u001b[1;33m)\u001b[0m\u001b[1;33m\u001b[0m\u001b[1;33m\u001b[0m\u001b[0m\n\u001b[0m",
      "\u001b[1;31mNameError\u001b[0m: name 'pos_roof_raw_missing' is not defined"
     ]
    }
   ],
   "source": [
    "pos_roof_raw_missing[['calendar_date']].isna().sum()"
   ]
  },
  {
   "cell_type": "code",
   "execution_count": 8,
   "id": "dynamic-photographer",
   "metadata": {},
   "outputs": [
    {
     "data": {
      "text/plain": [
       "pfcntr    131781478\n",
       "dtype: int64"
      ]
     },
     "execution_count": 8,
     "metadata": {},
     "output_type": "execute_result"
    }
   ],
   "source": [
    "pos_roof_raw_missing[['pfcntr']].isna().sum()"
   ]
  },
  {
   "cell_type": "code",
   "execution_count": 17,
   "id": "variable-karen",
   "metadata": {},
   "outputs": [],
   "source": [
    "pos_rooftop_day.to_csv(\"pos_rooftop_day.csv.gz\", index=False, header=True, \n",
    "                       encoding=\"utf-8\", compression=\"gzip\", sep=\"\\t\")"
   ]
  },
  {
   "cell_type": "code",
   "execution_count": 23,
   "id": "authentic-circulation",
   "metadata": {},
   "outputs": [],
   "source": [
    "pos_rooftop_day=pos_rooftop_day.compute()"
   ]
  },
  {
   "cell_type": "code",
   "execution_count": 24,
   "id": "dense-inquiry",
   "metadata": {},
   "outputs": [
    {
     "data": {
      "text/plain": [
       "Index(['calendar_date', 'pfcntr', 'dma_name', 'dma_code', 'week_end_sat',\n",
       "       'ordr_type_name', 'gross_sales_amt', 'net_sales_amt', 'check_cnt'],\n",
       "      dtype='object')"
      ]
     },
     "execution_count": 24,
     "metadata": {},
     "output_type": "execute_result"
    }
   ],
   "source": [
    "pos_rooftop_day.columns"
   ]
  },
  {
   "cell_type": "code",
   "execution_count": 28,
   "id": "anonymous-article",
   "metadata": {},
   "outputs": [],
   "source": [
    "order_channel_week=pos_rooftop_day.groupby(['ordr_type_name','week_end_sat']).agg(\n",
    "                                        gross_sales_amt = pd.NamedAgg(\"gross_sales_amt\", \"sum\"),\n",
    "                                        net_sales_amt = pd.NamedAgg(\"net_sales_amt\", \"sum\"),\n",
    "                                        check_cnt = pd.NamedAgg(\"check_cnt\", \"sum\"))"
   ]
  },
  {
   "cell_type": "code",
   "execution_count": 66,
   "id": "coastal-fundamental",
   "metadata": {},
   "outputs": [],
   "source": [
    "pos_rooftop_week=pd.DataFrame(pos_rooftop_week.to_records())"
   ]
  },
  {
   "cell_type": "code",
   "execution_count": 67,
   "id": "neural-tracker",
   "metadata": {},
   "outputs": [
    {
     "data": {
      "text/html": [
       "<div>\n",
       "<style scoped>\n",
       "    .dataframe tbody tr th:only-of-type {\n",
       "        vertical-align: middle;\n",
       "    }\n",
       "\n",
       "    .dataframe tbody tr th {\n",
       "        vertical-align: top;\n",
       "    }\n",
       "\n",
       "    .dataframe thead th {\n",
       "        text-align: right;\n",
       "    }\n",
       "</style>\n",
       "<table border=\"1\" class=\"dataframe\">\n",
       "  <thead>\n",
       "    <tr style=\"text-align: right;\">\n",
       "      <th></th>\n",
       "      <th>ordr_type_name</th>\n",
       "      <th>week_end_sat</th>\n",
       "      <th>gross_sales_amt</th>\n",
       "      <th>net_sales_amt</th>\n",
       "      <th>check_cnt</th>\n",
       "    </tr>\n",
       "  </thead>\n",
       "  <tbody>\n",
       "    <tr>\n",
       "      <th>0</th>\n",
       "      <td>br_delivery</td>\n",
       "      <td>2019-08-03</td>\n",
       "      <td>9.890000</td>\n",
       "      <td>9.890000</td>\n",
       "      <td>1.0</td>\n",
       "    </tr>\n",
       "    <tr>\n",
       "      <th>1</th>\n",
       "      <td>br_delivery</td>\n",
       "      <td>2020-08-01</td>\n",
       "      <td>0.000000</td>\n",
       "      <td>0.000000</td>\n",
       "      <td>0.0</td>\n",
       "    </tr>\n",
       "    <tr>\n",
       "      <th>2</th>\n",
       "      <td>college_card</td>\n",
       "      <td>2018-01-06</td>\n",
       "      <td>273.550018</td>\n",
       "      <td>272.570007</td>\n",
       "      <td>60.0</td>\n",
       "    </tr>\n",
       "    <tr>\n",
       "      <th>3</th>\n",
       "      <td>college_card</td>\n",
       "      <td>2018-01-13</td>\n",
       "      <td>3620.250000</td>\n",
       "      <td>3595.709961</td>\n",
       "      <td>967.0</td>\n",
       "    </tr>\n",
       "    <tr>\n",
       "      <th>4</th>\n",
       "      <td>college_card</td>\n",
       "      <td>2018-01-20</td>\n",
       "      <td>6875.229980</td>\n",
       "      <td>6846.140137</td>\n",
       "      <td>1765.0</td>\n",
       "    </tr>\n",
       "  </tbody>\n",
       "</table>\n",
       "</div>"
      ],
      "text/plain": [
       "  ordr_type_name week_end_sat  gross_sales_amt  net_sales_amt  check_cnt\n",
       "0    br_delivery   2019-08-03         9.890000       9.890000        1.0\n",
       "1    br_delivery   2020-08-01         0.000000       0.000000        0.0\n",
       "2   college_card   2018-01-06       273.550018     272.570007       60.0\n",
       "3   college_card   2018-01-13      3620.250000    3595.709961      967.0\n",
       "4   college_card   2018-01-20      6875.229980    6846.140137     1765.0"
      ]
     },
     "execution_count": 67,
     "metadata": {},
     "output_type": "execute_result"
    }
   ],
   "source": [
    "pos_rooftop_week.head()"
   ]
  },
  {
   "cell_type": "code",
   "execution_count": 68,
   "id": "sustained-junction",
   "metadata": {},
   "outputs": [
    {
     "name": "stdout",
     "output_type": "stream",
     "text": [
      "<class 'pandas.core.frame.DataFrame'>\n",
      "RangeIndex: 2439 entries, 0 to 2438\n",
      "Data columns (total 5 columns):\n",
      " #   Column           Non-Null Count  Dtype  \n",
      "---  ------           --------------  -----  \n",
      " 0   ordr_type_name   2439 non-null   object \n",
      " 1   week_end_sat     2439 non-null   object \n",
      " 2   gross_sales_amt  2439 non-null   float32\n",
      " 3   net_sales_amt    2439 non-null   float32\n",
      " 4   check_cnt        2439 non-null   float32\n",
      "dtypes: float32(3), object(2)\n",
      "memory usage: 66.8+ KB\n"
     ]
    }
   ],
   "source": [
    "pos_rooftop_week.info()"
   ]
  },
  {
   "cell_type": "code",
   "execution_count": 80,
   "id": "induced-strengthening",
   "metadata": {},
   "outputs": [],
   "source": [
    "pos_rooftop_week.to_csv(\"pos_rooftop_week.csv\", index=False, header=True, encoding=\"utf-8\", sep=\"\\t\" )"
   ]
  },
  {
   "cell_type": "code",
   "execution_count": 37,
   "id": "hired-strength",
   "metadata": {},
   "outputs": [
    {
     "data": {
      "text/plain": [
       "23"
      ]
     },
     "execution_count": 37,
     "metadata": {},
     "output_type": "execute_result"
    }
   ],
   "source": [
    "pos_rooftop_week['ordr_type_name'].nunique()"
   ]
  },
  {
   "cell_type": "code",
   "execution_count": 39,
   "id": "molecular-eugene",
   "metadata": {},
   "outputs": [],
   "source": [
    "pos_rooftop_week['week_end_sat']=pd.to_datetime(pos_rooftop_week['week_end_sat'])"
   ]
  },
  {
   "cell_type": "code",
   "execution_count": 41,
   "id": "center-luxembourg",
   "metadata": {},
   "outputs": [],
   "source": [
    "from matplotlib import pyplot as plt"
   ]
  },
  {
   "cell_type": "code",
   "execution_count": 47,
   "id": "understood-sample",
   "metadata": {},
   "outputs": [],
   "source": [
    "import dash\n",
    "import dash_core_components as dcc\n",
    "import dash_html_components as html"
   ]
  },
  {
   "cell_type": "code",
   "execution_count": 53,
   "id": "permanent-vaccine",
   "metadata": {},
   "outputs": [],
   "source": [
    "pd.options.plotting.backend=\"plotly\""
   ]
  },
  {
   "cell_type": "code",
   "execution_count": 55,
   "id": "daily-bibliography",
   "metadata": {},
   "outputs": [],
   "source": []
  },
  {
   "cell_type": "code",
   "execution_count": 78,
   "id": "buried-possession",
   "metadata": {},
   "outputs": [],
   "source": [
    "fig=px.line(pos_rooftop_week, x=\"week_end_sat\", y=\"check_cnt\", color=\"ordr_type_name\", height=800, width=1500, \n",
    "            line_group=\"ordr_type_name\")\n",
    "fig=fig.update_traces(mode='markers+lines')"
   ]
  },
  {
   "cell_type": "code",
   "execution_count": 79,
   "id": "entitled-animal",
   "metadata": {},
   "outputs": [
    {
     "name": "stdout",
     "output_type": "stream",
     "text": [
      "Dash is running on http://127.0.0.1:8050/\n",
      "\n",
      "Dash is running on http://127.0.0.1:8050/\n",
      "\n",
      "Dash is running on http://127.0.0.1:8050/\n",
      "\n",
      "Dash is running on http://127.0.0.1:8050/\n",
      "\n",
      "Dash is running on http://127.0.0.1:8050/\n",
      "\n",
      "Dash is running on http://127.0.0.1:8050/\n",
      "\n",
      "Dash is running on http://127.0.0.1:8050/\n",
      "\n",
      "Dash is running on http://127.0.0.1:8050/\n",
      "\n",
      "Dash is running on http://127.0.0.1:8050/\n",
      "\n",
      "Dash is running on http://127.0.0.1:8050/\n",
      "\n",
      "Dash is running on http://127.0.0.1:8050/\n",
      "\n",
      " * Serving Flask app \"__main__\" (lazy loading)\n",
      " * Environment: production\n",
      "   WARNING: This is a development server. Do not use it in a production deployment.\n",
      "   Use a production WSGI server instead.\n",
      " * Debug mode: on\n"
     ]
    }
   ],
   "source": [
    "app = dash.Dash(__name__)\n",
    "\n",
    "app.layout = html.Div([\n",
    "    dcc.Graph(id=\"graph\", figure=fig),\n",
    "])\n",
    "\n",
    "if __name__ == '__main__':\n",
    "    app.run_server(debug=True, use_reloader=False)"
   ]
  },
  {
   "cell_type": "code",
   "execution_count": 63,
   "id": "collaborative-salem",
   "metadata": {},
   "outputs": [],
   "source": [
    "pos_rooftop_month=pos_rooftop_week.groupby(['pfcntr','ordr_type_name','month']).agg(\n",
    "                                        gross_sales_amt = pd.NamedAgg(\"gross_sales_amt\", \"sum\"),\n",
    "                                        net_sales_amt = pd.NamedAgg(\"net_sales_amt\", \"sum\"),\n",
    "                                        check_cnt = pd.NamedAgg(\"check_cnt\", \"sum\"))\n",
    "pos_rooftop_month=pd.DataFrame(pos_rooftop_month.to_records())"
   ]
  },
  {
   "cell_type": "code",
   "execution_count": 64,
   "id": "fatty-appointment",
   "metadata": {},
   "outputs": [],
   "source": [
    "pos_rooftop_month.to_csv(\"pos_rooftop_month.csv\", index=False, header=True, encoding=\"utf-8\", sep=\"\\t\")"
   ]
  },
  {
   "cell_type": "code",
   "execution_count": 62,
   "id": "alternate-preliminary",
   "metadata": {},
   "outputs": [
    {
     "name": "stdout",
     "output_type": "stream",
     "text": [
      "Dash is running on http://127.0.0.1:8050/\n",
      "\n",
      "Dash is running on http://127.0.0.1:8050/\n",
      "\n",
      "Dash is running on http://127.0.0.1:8050/\n",
      "\n",
      "Dash is running on http://127.0.0.1:8050/\n",
      "\n",
      "Dash is running on http://127.0.0.1:8050/\n",
      "\n",
      "Dash is running on http://127.0.0.1:8050/\n",
      "\n",
      " * Serving Flask app \"__main__\" (lazy loading)\n",
      " * Environment: production\n",
      "   WARNING: This is a development server. Do not use it in a production deployment.\n",
      "   Use a production WSGI server instead.\n",
      " * Debug mode: on\n"
     ]
    }
   ],
   "source": []
  },
  {
   "cell_type": "code",
   "execution_count": null,
   "id": "united-congress",
   "metadata": {},
   "outputs": [],
   "source": []
  }
 ],
 "metadata": {
  "kernelspec": {
   "display_name": "Python 3",
   "language": "python",
   "name": "python3"
  },
  "language_info": {
   "codemirror_mode": {
    "name": "ipython",
    "version": 3
   },
   "file_extension": ".py",
   "mimetype": "text/x-python",
   "name": "python",
   "nbconvert_exporter": "python",
   "pygments_lexer": "ipython3",
   "version": "3.8.7"
  }
 },
 "nbformat": 4,
 "nbformat_minor": 5
}
